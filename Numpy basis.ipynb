{
 "cells": [
  {
   "cell_type": "code",
   "execution_count": 1,
   "id": "9c6c3f4a",
   "metadata": {},
   "outputs": [
    {
     "name": "stdout",
     "output_type": "stream",
     "text": [
      "[1 2 3 4 5]\n"
     ]
    }
   ],
   "source": [
    "import numpy as np \n",
    "arr = np.array([1, 2, 3, 4, 5]) \n",
    "print(arr) \n"
   ]
  },
  {
   "cell_type": "code",
   "execution_count": 2,
   "id": "0cdad44a",
   "metadata": {},
   "outputs": [
    {
     "name": "stdout",
     "output_type": "stream",
     "text": [
      "Size of the whole Numpy array in bytes:  8000\n"
     ]
    }
   ],
   "source": [
    "\n",
    "D= np.arange(1000) \n",
    "\n",
    "print(\"Size of the whole Numpy array in bytes: \",D.size*D.itemsize) \n"
   ]
  },
  {
   "cell_type": "code",
   "execution_count": 3,
   "id": "556d06c0",
   "metadata": {},
   "outputs": [
    {
     "name": "stdout",
     "output_type": "stream",
     "text": [
      "42\n"
     ]
    }
   ],
   "source": [
    "arr = np.array(42) \n",
    "print(arr) \n"
   ]
  },
  {
   "cell_type": "code",
   "execution_count": 4,
   "id": "10a701de",
   "metadata": {},
   "outputs": [
    {
     "name": "stdout",
     "output_type": "stream",
     "text": [
      "[[1 2 3]\n",
      " [4 5 6]]\n"
     ]
    }
   ],
   "source": [
    "arr = np.array([[1, 2, 3], [4, 5, 6]]) \n",
    "print(arr) \n"
   ]
  },
  {
   "cell_type": "code",
   "execution_count": 5,
   "id": "e1082229",
   "metadata": {},
   "outputs": [
    {
     "name": "stdout",
     "output_type": "stream",
     "text": [
      "[[[1 2 3]\n",
      "  [4 5 6]]\n",
      "\n",
      " [[1 2 3]\n",
      "  [4 5 6]]]\n"
     ]
    }
   ],
   "source": [
    "arr = np.array([[[1, 2, 3], [4, 5, 6]], [[1, 2, 3], [4, 5, 6]]]) \n",
    "print(arr) \n"
   ]
  },
  {
   "cell_type": "code",
   "execution_count": 7,
   "id": "63489ed4",
   "metadata": {},
   "outputs": [
    {
     "name": "stdout",
     "output_type": "stream",
     "text": [
      "[[0. 0.]\n",
      " [0. 0.]\n",
      " [0. 0.]\n",
      " [0. 0.]\n",
      " [0. 0.]]\n",
      "[[0. 0. 0.]\n",
      " [0. 0. 0.]]\n"
     ]
    }
   ],
   "source": [
    "zeros_arr = np.zeros((5,2)) \n",
    "eros_arr = np.zeros(5) \n",
    "print(zeros_arr) \n",
    "\n",
    "zeros_arr = np.zeros((2,3)) \n",
    "print(zeros_arr) \n",
    "\n",
    "\n"
   ]
  },
  {
   "cell_type": "code",
   "execution_count": 8,
   "id": "2441910a",
   "metadata": {},
   "outputs": [
    {
     "name": "stdout",
     "output_type": "stream",
     "text": [
      "[1. 1. 1. 1. 1. 1.]\n"
     ]
    }
   ],
   "source": [
    "\n",
    "ones_arr = np.ones(6) \n",
    "print(ones_arr) \n"
   ]
  },
  {
   "cell_type": "code",
   "execution_count": 12,
   "id": "c00073da",
   "metadata": {},
   "outputs": [
    {
     "name": "stdout",
     "output_type": "stream",
     "text": [
      "array 1\n",
      " [0 1 2 3 4 5 6 7 8 9] int64\n",
      "Array 2 \n",
      " [-0.96426484 -0.90007433  2.10121711 -0.91618089 -2.00140033 -1.30763102\n",
      "  0.73356965  1.87811969  0.80871203 -0.50843778] float64\n",
      "New Array \n",
      " [0. 1. 2. 3. 4. 5. 6. 7. 8. 9.] float64\n"
     ]
    }
   ],
   "source": [
    "arr1 = np.arange(10) \n",
    "arr2 = np.random. randn (10) \n",
    "print(\"array 1\\n\", arr1, arr1.dtype) \n",
    "print(\"Array 2 \\n\", arr2, arr2.dtype) \n",
    "new_arr = arr1.astype (arr2.dtype) \n",
    "arr1.astype(arr2.dtype) \n",
    "print(\"New Array \\n\", new_arr, new_arr.dtype) \n"
   ]
  },
  {
   "cell_type": "code",
   "execution_count": 13,
   "id": "00b30d19",
   "metadata": {},
   "outputs": [
    {
     "name": "stdout",
     "output_type": "stream",
     "text": [
      "['hello' 'world' 'numpy']\n"
     ]
    }
   ],
   "source": [
    "str_arr = np.array(['hello', 'world', 'numpy']) \n",
    "print(str_arr) \n"
   ]
  },
  {
   "cell_type": "code",
   "execution_count": 19,
   "id": "44f378bd",
   "metadata": {
    "scrolled": true
   },
   "outputs": [
    {
     "name": "stdout",
     "output_type": "stream",
     "text": [
      "[0 1 2 3 4 5 6 7 8 9]\n",
      "\n",
      " After broadcasting1 [0 1 2 3 4 2 6 7 8 9]\n",
      "\n",
      " After broadcasting2 [100   1 100   3 100   2 100   7 100   9]\n"
     ]
    }
   ],
   "source": [
    "\n",
    "x = np.arange(10) \n",
    "print(x) \n",
    "x[5] = 2 \n",
    "print(\"\\n After broadcasting1\",x) \n",
    "x[::2] = 100 \n",
    "print(\"\\n After broadcasting2\",x) \n"
   ]
  },
  {
   "cell_type": "code",
   "execution_count": 22,
   "id": "0c149d35",
   "metadata": {},
   "outputs": [
    {
     "name": "stdout",
     "output_type": "stream",
     "text": [
      "a= \n",
      " [[ 0  1  2  3]\n",
      " [ 4  5  6  7]\n",
      " [ 8  9 10 11]]\n",
      "b= \n",
      " [[False False False False]\n",
      " [False  True  True  True]\n",
      " [ True  True  True  True]]\n",
      "a[b]= \n",
      " [ 5  6  7  8  9 10 11]\n",
      "a= \n",
      " [[0 1 2 3]\n",
      " [4 1 1 1]\n",
      " [1 1 1 1]]\n"
     ]
    }
   ],
   "source": [
    "\n",
    "a = np.arange(12). reshape (3,4) \n",
    "print(\"a= \\n\",a) \n",
    "b = a > 4 \n",
    "print(\"b= \\n\", b) \n",
    "print(\"a[b]= \\n\",a[b]) \n",
    "a [b] = 1 \n",
    "print(\"a= \\n\",a) \n",
    "\n"
   ]
  },
  {
   "cell_type": "code",
   "execution_count": 25,
   "id": "27debb39",
   "metadata": {},
   "outputs": [
    {
     "name": "stdout",
     "output_type": "stream",
     "text": [
      "[[ 0  1  2  3]\n",
      " [ 4  5  6  7]\n",
      " [ 8  9 10 11]]\n",
      "Transpose using .T\n",
      "[[ 0  4  8]\n",
      " [ 1  5  9]\n",
      " [ 2  6 10]\n",
      " [ 3  7 11]]\n",
      "Transpose using the transpose() function\n"
     ]
    }
   ],
   "source": [
    "\n",
    "import numpy as np \n",
    "arr = np.arange(12).reshape((3, 4)) \n",
    "print(arr) \n",
    "print(\"Transpose using .T\") \n",
    "print(arr.T) \n",
    "print(\"Transpose using the transpose() function\") \n"
   ]
  },
  {
   "cell_type": "code",
   "execution_count": 26,
   "id": "f19f6c3b",
   "metadata": {},
   "outputs": [
    {
     "name": "stdout",
     "output_type": "stream",
     "text": [
      "[[ 0  4  8]\n",
      " [ 1  5  9]\n",
      " [ 2  6 10]\n",
      " [ 3  7 11]]\n",
      "[[ 0  1  2  3]\n",
      " [ 4  5  6  7]\n",
      " [ 8  9 10 11]]\n"
     ]
    }
   ],
   "source": [
    "arr1=np.transpose(arr, (1, 0)) \n",
    "print(arr1) \n",
    "arr2=np.transpose(arr, (0,1)) \n",
    "print(arr2) \n"
   ]
  },
  {
   "cell_type": "code",
   "execution_count": 28,
   "id": "5d178005",
   "metadata": {},
   "outputs": [
    {
     "name": "stdout",
     "output_type": "stream",
     "text": [
      "[[ 0  1  2  3]\n",
      " [ 4  5  6  7]\n",
      " [ 8  9 10 11]]\n",
      "Swap axes 0 and 1:\n",
      "[[ 0  4  8]\n",
      " [ 1  5  9]\n",
      " [ 2  6 10]\n",
      " [ 3  7 11]]\n"
     ]
    }
   ],
   "source": [
    "\n",
    "print(arr) \n",
    "print(\"Swap axes 0 and 1:\") \n",
    "print(np.swapaxes (arr, 0, 1)) \n"
   ]
  },
  {
   "cell_type": "code",
   "execution_count": 35,
   "id": "1f99c502",
   "metadata": {},
   "outputs": [
    {
     "name": "stdout",
     "output_type": "stream",
     "text": [
      "[[ 0  1  2  3]\n",
      " [ 4  5  6  7]\n",
      " [ 8  9 10 11]]\n",
      "Swap axes 0 and 1:\n",
      "[[ 0  4  8]\n",
      " [ 1  5  9]\n",
      " [ 2  6 10]\n",
      " [ 3  7 11]]\n"
     ]
    }
   ],
   "source": [
    "arr = np.arange(12).reshape((3, 4)) \n",
    "print(arr) \n",
    "print(\"Swap axes 0 and 1:\") \n",
    "print(np.swapaxes (arr, 0, 1)) \n"
   ]
  },
  {
   "cell_type": "code",
   "execution_count": null,
   "id": "c1ee94c8",
   "metadata": {},
   "outputs": [],
   "source": []
  }
 ],
 "metadata": {
  "kernelspec": {
   "display_name": "Python 3 (ipykernel)",
   "language": "python",
   "name": "python3"
  },
  "language_info": {
   "codemirror_mode": {
    "name": "ipython",
    "version": 3
   },
   "file_extension": ".py",
   "mimetype": "text/x-python",
   "name": "python",
   "nbconvert_exporter": "python",
   "pygments_lexer": "ipython3",
   "version": "3.9.12"
  }
 },
 "nbformat": 4,
 "nbformat_minor": 5
}
