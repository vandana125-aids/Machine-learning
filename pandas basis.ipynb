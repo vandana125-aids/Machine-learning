{
  "cells": [
    {
      "cell_type": "markdown",
      "id": "88c713f2-69a1-43b3-918b-067f7d840b82",
      "metadata": {},
      "source": [
        "**Series**"
      ]
    },
    {
      "cell_type": "code",
      "execution_count": 2,
      "id": "eed4437e-b0c3-4874-bd87-5c26da036414",
      "metadata": {
        "trusted": true
      },
      "outputs": [
        {
          "name": "stdout",
          "output_type": "stream",
          "text": [
            "0    10\n",
            "1    20\n",
            "2    30\n",
            "3    40\n",
            "4    50\n",
            "dtype: int64\n"
          ]
        }
      ],
      "source": [
        "import pandas as pd\n",
        "data=[10,20,30,40,50]\n",
        "series=pd.Series(data)\n",
        "print(series)"
      ]
    },
    {
      "cell_type": "code",
      "execution_count": 3,
      "id": "2eacb12a-5fc6-4c67-b417-5f641811f6b9",
      "metadata": {
        "trusted": true
      },
      "outputs": [
        {
          "name": "stdout",
          "output_type": "stream",
          "text": [
            "x    1\n",
            "y    7\n",
            "z    2\n",
            "dtype: int64\n"
          ]
        }
      ],
      "source": [
        "a=[1,7,2]\n",
        "myvar=pd.Series(a,index=[\"x\",\"y\",\"z\"])\n",
        "print(myvar)"
      ]
    },
    {
      "cell_type": "code",
      "execution_count": 6,
      "id": "f5609d7c-4037-4f40-ab1a-535b5860c4dc",
      "metadata": {
        "trusted": true
      },
      "outputs": [
        {
          "name": "stdout",
          "output_type": "stream",
          "text": [
            "series>25=\n",
            " 0    False\n",
            "1    False\n",
            "2     True\n",
            "3     True\n",
            "4     True\n",
            "dtype: bool\n",
            "Filtered Series:\n",
            " 2    30\n",
            "3    40\n",
            "4    50\n",
            "dtype: int64\n"
          ]
        }
      ],
      "source": [
        "print(\"series>25=\\n\",series>25)\n",
        "series_filtered=series[series>25]\n",
        "print(\"Filtered Series:\\n\",series_filtered)"
      ]
    },
    {
      "cell_type": "code",
      "execution_count": 8,
      "id": "906bb939-c925-4f95-9461-cb9a5ffccdf3",
      "metadata": {
        "trusted": true
      },
      "outputs": [
        {
          "name": "stdout",
          "output_type": "stream",
          "text": [
            "series_sqrt=\n",
            " 0    3.162278\n",
            "1    4.472136\n",
            "2    5.477226\n",
            "3    6.324555\n",
            "4    7.071068\n",
            "dtype: float64\n"
          ]
        }
      ],
      "source": [
        "#Using numpy functions\n",
        "import numpy as np\n",
        "print(\"series_sqrt=\\n\",np.sqrt(series))"
      ]
    },
    {
      "cell_type": "markdown",
      "id": "e416ffa5-c6c9-4d3d-bb99-14ea6c237e22",
      "metadata": {},
      "source": [
        "**DataFrame**"
      ]
    },
    {
      "cell_type": "code",
      "execution_count": 9,
      "id": "180c7bd1-33ee-4ef5-aba8-52e3bb3bd58b",
      "metadata": {
        "trusted": true
      },
      "outputs": [
        {
          "name": "stdout",
          "output_type": "stream",
          "text": [
            "   calories  duration\n",
            "0       420        50\n",
            "1       380        40\n",
            "2       390        45\n"
          ]
        }
      ],
      "source": [
        "data={\"calories\":[420,380,390],\"duration\":[50,40,45]}\n",
        "df=pd.DataFrame(data)\n",
        "print(df)"
      ]
    },
    {
      "cell_type": "code",
      "execution_count": 10,
      "id": "512b5192-3883-480d-aa5a-a5567f8d0959",
      "metadata": {
        "trusted": true
      },
      "outputs": [
        {
          "name": "stdout",
          "output_type": "stream",
          "text": [
            "    state  year  pop\n",
            "0    Ohio  2000  1.5\n",
            "1    Ohio  2001  1.7\n",
            "2    Ohio  2002  3.6\n",
            "3  Nevada  2001  2.4\n",
            "4  Nevada  2002  2.9\n",
            "5  Nevada  2003  3.2\n"
          ]
        }
      ],
      "source": [
        "data={\"state\":[\"Ohio\",\"Ohio\",\"Ohio\",\"Nevada\",\"Nevada\",\"Nevada\"],\n",
        "      \"year\":[2000,2001,2002,2001,2002,2003],\n",
        "      \"pop\":[1.5,1.7,3.6,2.4,2.9,3.2]}\n",
        "frame=pd.DataFrame(data)\n",
        "print(frame)"
      ]
    },
    {
      "cell_type": "code",
      "execution_count": 13,
      "id": "c153f84a-c56d-4d64-9c70-ddaac76848b9",
      "metadata": {
        "trusted": true
      },
      "outputs": [
        {
          "name": "stdout",
          "output_type": "stream",
          "text": [
            "   year   state  pop\n",
            "0  2000    Ohio  1.5\n",
            "1  2001    Ohio  1.7\n",
            "2  2002    Ohio  3.6\n",
            "3  2001  Nevada  2.4\n",
            "4  2002  Nevada  2.9\n",
            "5  2003  Nevada  3.2\n"
          ]
        }
      ],
      "source": [
        "#changing the order of the columns\n",
        "frame = pd.DataFrame(data,columns=[\"year\",\"state\",\"pop\"])\n",
        "print(frame)"
      ]
    },
    {
      "cell_type": "code",
      "execution_count": 14,
      "id": "48c8a62b-bd19-4801-a60b-9202c2041fd8",
      "metadata": {
        "trusted": true
      },
      "outputs": [
        {
          "name": "stdout",
          "output_type": "stream",
          "text": [
            "       year   state  pop debt\n",
            "one    2000    Ohio  1.5  NaN\n",
            "two    2001    Ohio  1.7  NaN\n",
            "three  2002    Ohio  3.6  NaN\n",
            "four   2001  Nevada  2.4  NaN\n",
            "five   2002  Nevada  2.9  NaN\n",
            "six    2003  Nevada  3.2  NaN\n"
          ]
        }
      ],
      "source": [
        "#pass a column 'debt' that is not in the dictionary\n",
        "frame2=pd.DataFrame(data,columns=[\"year\",\"state\",\"pop\",\"debt\"],index=[\"one\",\"two\",\"three\",\"four\",\"five\",\"six\"])\n",
        "print(frame2)"
      ]
    },
    {
      "cell_type": "code",
      "execution_count": 15,
      "id": "ff52d594-eff3-490d-9f9f-b2baa2d7ae14",
      "metadata": {
        "trusted": true
      },
      "outputs": [
        {
          "name": "stdout",
          "output_type": "stream",
          "text": [
            "one      2000\n",
            "two      2001\n",
            "three    2002\n",
            "four     2001\n",
            "five     2002\n",
            "six      2003\n",
            "Name: year, dtype: int64\n",
            "\n",
            " one        Ohio\n",
            "two        Ohio\n",
            "three      Ohio\n",
            "four     Nevada\n",
            "five     Nevada\n",
            "six      Nevada\n",
            "Name: state, dtype: object\n",
            "\n",
            " one        Ohio\n",
            "two        Ohio\n",
            "three      Ohio\n",
            "four     Nevada\n",
            "five     Nevada\n",
            "six      Nevada\n",
            "Name: state, dtype: object\n"
          ]
        }
      ],
      "source": [
        "print(frame2[\"year\"])\n",
        "print(\"\\n\",frame2[\"state\"])\n",
        "print(\"\\n\",frame2.state)"
      ]
    },
    {
      "cell_type": "code",
      "execution_count": 16,
      "id": "51df6888-6af6-48fe-87f2-e80164d00bad",
      "metadata": {
        "trusted": true
      },
      "outputs": [
        {
          "name": "stdout",
          "output_type": "stream",
          "text": [
            "       year   state  pop  debt\n",
            "one    2000    Ohio  1.5   0.0\n",
            "two    2001    Ohio  1.7   1.0\n",
            "three  2002    Ohio  3.6   2.0\n",
            "four   2001  Nevada  2.4   3.0\n",
            "five   2002  Nevada  2.9   4.0\n",
            "six    2003  Nevada  3.2   5.0\n"
          ]
        }
      ],
      "source": [
        "#Using arange() function\n",
        "frame2['debt']=np.arange(6.)\n",
        "print(frame2)"
      ]
    },
    {
      "cell_type": "code",
      "execution_count": 17,
      "id": "c63896ea-626a-40db-8b28-9a652be328b6",
      "metadata": {
        "trusted": true
      },
      "outputs": [
        {
          "name": "stdout",
          "output_type": "stream",
          "text": [
            "       year   state  pop  debt\n",
            "one    2000    Ohio  1.5   NaN\n",
            "two    2001    Ohio  1.7  -1.2\n",
            "three  2002    Ohio  3.6   NaN\n",
            "four   2001  Nevada  2.4  -1.5\n",
            "five   2002  Nevada  2.9  -1.7\n",
            "six    2003  Nevada  3.2   NaN\n"
          ]
        }
      ],
      "source": [
        "val=pd.Series([-1.2,-1.5,-1.7],index=[\"two\",\"four\",\"five\"])\n",
        "frame2['debt']=val\n",
        "print(frame2)"
      ]
    },
    {
      "cell_type": "code",
      "execution_count": 18,
      "id": "04a6431c-f422-4319-be64-20e52cdcf24e",
      "metadata": {
        "trusted": true
      },
      "outputs": [
        {
          "name": "stdout",
          "output_type": "stream",
          "text": [
            "        one   two three    four    five     six\n",
            "year   2000  2001  2002    2001    2002    2003\n",
            "state  Ohio  Ohio  Ohio  Nevada  Nevada  Nevada\n",
            "pop     1.5   1.7   3.6     2.4     2.9     3.2\n",
            "debt    NaN  -1.2   NaN    -1.5    -1.7     NaN\n"
          ]
        }
      ],
      "source": [
        "print(frame2.T)"
      ]
    },
    {
      "cell_type": "markdown",
      "id": "a83e7510-8060-49b8-871a-4e2e10fda4fc",
      "metadata": {},
      "source": [
        "**Reindexing**"
      ]
    },
    {
      "cell_type": "code",
      "execution_count": 19,
      "id": "413321ca-e406-4bd6-b04c-17c065bc571f",
      "metadata": {
        "trusted": true
      },
      "outputs": [
        {
          "name": "stdout",
          "output_type": "stream",
          "text": [
            "d    4.5\n",
            "b    7.2\n",
            "a   -5.3\n",
            "c    3.6\n",
            "dtype: float64\n"
          ]
        },
        {
          "data": {
            "text/plain": [
              "a   -5.3\n",
              "b    7.2\n",
              "c    3.6\n",
              "d    4.5\n",
              "e    NaN\n",
              "dtype: float64"
            ]
          },
          "execution_count": 19,
          "metadata": {},
          "output_type": "execute_result"
        }
      ],
      "source": [
        "obj = pd.Series([4.5,7.2,-5.3,3.6],index=['d','b','a','c'])\n",
        "print(obj)\n",
        "obj2=obj.reindex(['a','b','c','d','e'])\n",
        "obj2"
      ]
    },
    {
      "cell_type": "markdown",
      "id": "e5919320-44e5-4f92-a4fb-4475880af1ba",
      "metadata": {},
      "source": [
        "**Interpolation or filling**"
      ]
    },
    {
      "cell_type": "code",
      "execution_count": 20,
      "id": "b481e11a-c274-4e41-9225-b316cf710364",
      "metadata": {
        "trusted": true
      },
      "outputs": [
        {
          "name": "stdout",
          "output_type": "stream",
          "text": [
            "0      blue\n",
            "2    purple\n",
            "4    yellow\n",
            "dtype: object\n"
          ]
        },
        {
          "data": {
            "text/plain": [
              "0      blue\n",
              "1      blue\n",
              "2    purple\n",
              "3    purple\n",
              "4    yellow\n",
              "5    yellow\n",
              "dtype: object"
            ]
          },
          "execution_count": 20,
          "metadata": {},
          "output_type": "execute_result"
        }
      ],
      "source": [
        "obj3 = pd.Series(['blue','purple','yellow'],index=[0,2,4])\n",
        "print(obj3)\n",
        "obj4=obj3.reindex(range(6),method='ffill')\n",
        "obj4"
      ]
    },
    {
      "cell_type": "code",
      "execution_count": 21,
      "id": "13e55a50-5f9c-44e3-b014-b368538b9ee7",
      "metadata": {
        "trusted": true
      },
      "outputs": [
        {
          "name": "stdout",
          "output_type": "stream",
          "text": [
            "Method 'ffill':\n"
          ]
        },
        {
          "data": {
            "text/plain": [
              "0      blue\n",
              "1      blue\n",
              "2    purple\n",
              "3    purple\n",
              "4    yellow\n",
              "5    yellow\n",
              "dtype: object"
            ]
          },
          "execution_count": 21,
          "metadata": {},
          "output_type": "execute_result"
        }
      ],
      "source": [
        "obj3 = pd.Series(['blue','purple','yellow'],index=[0,2,4])\n",
        "obj4=obj3.reindex(range(6),method='ffill')\n",
        "print(\"Method 'ffill':\")\n",
        "obj4"
      ]
    },
    {
      "cell_type": "markdown",
      "id": "a3ed9af7-59d4-4d6b-b6f8-29558bba696d",
      "metadata": {},
      "source": [
        "**Indexing,Selection, and Filtering**"
      ]
    },
    {
      "cell_type": "code",
      "execution_count": 27,
      "id": "660dd5a8-25fa-4efc-a108-2cd10b12057c",
      "metadata": {
        "trusted": true
      },
      "outputs": [
        {
          "name": "stdout",
          "output_type": "stream",
          "text": [
            "obj['b']=\n",
            " 1.0\n"
          ]
        },
        {
          "name": "stderr",
          "output_type": "stream",
          "text": [
            "<ipython-input-27-e85439345365>:3: FutureWarning: Series.__getitem__ treating keys as positions is deprecated. In a future version, integer keys will always be treated as labels (consistent with DataFrame behavior). To access a value by position, use `ser.iloc[pos]`\n",
            "  print(\"obj[1]=\\n\",obj[1])\n"
          ]
        },
        {
          "name": "stdout",
          "output_type": "stream",
          "text": [
            "obj[1]=\n",
            " 1.0\n",
            "obj[2:4]=\n",
            " c    2.0\n",
            "d    3.0\n",
            "dtype: float64\n"
          ]
        }
      ],
      "source": [
        "obj=pd.Series(np.arange(4.),index=['a','b','c','d'])\n",
        "print(\"obj['b']=\\n\",obj['b'])\n",
        "print(\"obj[1]=\\n\",obj[1])\n",
        "print(\"obj[2:4]=\\n\",obj[2:4])"
      ]
    },
    {
      "cell_type": "code",
      "execution_count": 28,
      "id": "b1cf1a1c-b599-401b-965e-bc4007f24222",
      "metadata": {
        "trusted": true
      },
      "outputs": [
        {
          "data": {
            "text/html": [
              "<div>\n",
              "<style scoped>\n",
              "    .dataframe tbody tr th:only-of-type {\n",
              "        vertical-align: middle;\n",
              "    }\n",
              "\n",
              "    .dataframe tbody tr th {\n",
              "        vertical-align: top;\n",
              "    }\n",
              "\n",
              "    .dataframe thead th {\n",
              "        text-align: right;\n",
              "    }\n",
              "</style>\n",
              "<table border=\"1\" class=\"dataframe\">\n",
              "  <thead>\n",
              "    <tr style=\"text-align: right;\">\n",
              "      <th></th>\n",
              "      <th>one</th>\n",
              "      <th>two</th>\n",
              "      <th>three</th>\n",
              "      <th>four</th>\n",
              "    </tr>\n",
              "  </thead>\n",
              "  <tbody>\n",
              "    <tr>\n",
              "      <th>Ohio</th>\n",
              "      <td>0</td>\n",
              "      <td>1</td>\n",
              "      <td>2</td>\n",
              "      <td>3</td>\n",
              "    </tr>\n",
              "    <tr>\n",
              "      <th>Dallas</th>\n",
              "      <td>4</td>\n",
              "      <td>5</td>\n",
              "      <td>6</td>\n",
              "      <td>7</td>\n",
              "    </tr>\n",
              "    <tr>\n",
              "      <th>Boston</th>\n",
              "      <td>8</td>\n",
              "      <td>9</td>\n",
              "      <td>10</td>\n",
              "      <td>11</td>\n",
              "    </tr>\n",
              "    <tr>\n",
              "      <th>NJ</th>\n",
              "      <td>12</td>\n",
              "      <td>13</td>\n",
              "      <td>14</td>\n",
              "      <td>15</td>\n",
              "    </tr>\n",
              "    <tr>\n",
              "      <th>NewYork</th>\n",
              "      <td>16</td>\n",
              "      <td>17</td>\n",
              "      <td>18</td>\n",
              "      <td>19</td>\n",
              "    </tr>\n",
              "    <tr>\n",
              "      <th>Austin</th>\n",
              "      <td>20</td>\n",
              "      <td>21</td>\n",
              "      <td>22</td>\n",
              "      <td>23</td>\n",
              "    </tr>\n",
              "  </tbody>\n",
              "</table>\n",
              "</div>"
            ],
            "text/plain": [
              "         one  two  three  four\n",
              "Ohio       0    1      2     3\n",
              "Dallas     4    5      6     7\n",
              "Boston     8    9     10    11\n",
              "NJ        12   13     14    15\n",
              "NewYork   16   17     18    19\n",
              "Austin    20   21     22    23"
            ]
          },
          "execution_count": 28,
          "metadata": {},
          "output_type": "execute_result"
        }
      ],
      "source": [
        "data=pd.DataFrame(np.arange(24).reshape((6,4)),\n",
        "                  index=['Ohio','Dallas','Boston','NJ','NewYork','Austin'],\n",
        "                  columns=['one','two','three','four'])\n",
        "data"
      ]
    },
    {
      "cell_type": "code",
      "execution_count": 29,
      "id": "46fcb986-2567-47af-8792-a9f79abbbf46",
      "metadata": {
        "trusted": true
      },
      "outputs": [
        {
          "data": {
            "text/plain": [
              "Ohio        1\n",
              "Dallas      5\n",
              "Boston      9\n",
              "NJ         13\n",
              "NewYork    17\n",
              "Austin     21\n",
              "Name: two, dtype: int32"
            ]
          },
          "execution_count": 29,
          "metadata": {},
          "output_type": "execute_result"
        }
      ],
      "source": [
        "data['two']"
      ]
    },
    {
      "cell_type": "code",
      "execution_count": 30,
      "id": "e235a6c4-e683-405e-b2e1-608361adb2c4",
      "metadata": {
        "trusted": true
      },
      "outputs": [
        {
          "data": {
            "text/html": [
              "<div>\n",
              "<style scoped>\n",
              "    .dataframe tbody tr th:only-of-type {\n",
              "        vertical-align: middle;\n",
              "    }\n",
              "\n",
              "    .dataframe tbody tr th {\n",
              "        vertical-align: top;\n",
              "    }\n",
              "\n",
              "    .dataframe thead th {\n",
              "        text-align: right;\n",
              "    }\n",
              "</style>\n",
              "<table border=\"1\" class=\"dataframe\">\n",
              "  <thead>\n",
              "    <tr style=\"text-align: right;\">\n",
              "      <th></th>\n",
              "      <th>one</th>\n",
              "      <th>two</th>\n",
              "      <th>three</th>\n",
              "      <th>four</th>\n",
              "    </tr>\n",
              "  </thead>\n",
              "  <tbody>\n",
              "    <tr>\n",
              "      <th>Dallas</th>\n",
              "      <td>4</td>\n",
              "      <td>5</td>\n",
              "      <td>6</td>\n",
              "      <td>7</td>\n",
              "    </tr>\n",
              "    <tr>\n",
              "      <th>Boston</th>\n",
              "      <td>8</td>\n",
              "      <td>9</td>\n",
              "      <td>10</td>\n",
              "      <td>11</td>\n",
              "    </tr>\n",
              "    <tr>\n",
              "      <th>NJ</th>\n",
              "      <td>12</td>\n",
              "      <td>13</td>\n",
              "      <td>14</td>\n",
              "      <td>15</td>\n",
              "    </tr>\n",
              "    <tr>\n",
              "      <th>NewYork</th>\n",
              "      <td>16</td>\n",
              "      <td>17</td>\n",
              "      <td>18</td>\n",
              "      <td>19</td>\n",
              "    </tr>\n",
              "  </tbody>\n",
              "</table>\n",
              "</div>"
            ],
            "text/plain": [
              "         one  two  three  four\n",
              "Dallas     4    5      6     7\n",
              "Boston     8    9     10    11\n",
              "NJ        12   13     14    15\n",
              "NewYork   16   17     18    19"
            ]
          },
          "execution_count": 30,
          "metadata": {},
          "output_type": "execute_result"
        }
      ],
      "source": [
        "data[1:5]"
      ]
    },
    {
      "cell_type": "markdown",
      "id": "afc122ba-7a3b-42f9-9b62-86bbe61dafb1",
      "metadata": {},
      "source": [
        "**Arithmetic and Data Alingment**"
      ]
    },
    {
      "cell_type": "code",
      "execution_count": 31,
      "id": "6e207ac7-f283-40db-8287-d916b0d4ee14",
      "metadata": {
        "trusted": true
      },
      "outputs": [
        {
          "name": "stdout",
          "output_type": "stream",
          "text": [
            "   A  B\n",
            "0  1  4\n",
            "1  2  5\n",
            "2  3  6\n",
            "   A   B\n",
            "0  7  10\n",
            "1  8  11\n",
            "2  9  12\n",
            "Addition:\n",
            "     A   B\n",
            "0   8  14\n",
            "1  10  16\n",
            "2  12  18\n",
            "Subraction:\n",
            "    A  B\n",
            "0 -6 -6\n",
            "1 -6 -6\n",
            "2 -6 -6\n",
            "Multiplication:\n",
            "     A   B\n",
            "0   7  40\n",
            "1  16  55\n",
            "2  27  72\n",
            "Divison:\n",
            "           A         B\n",
            "0  0.142857  0.400000\n",
            "1  0.250000  0.454545\n",
            "2  0.333333  0.500000\n"
          ]
        }
      ],
      "source": [
        "df1=pd.DataFrame({'A':[1,2,3],'B':[4,5,6]})\n",
        "df2=pd.DataFrame({'A':[7,8,9],'B':[10,11,12]})\n",
        "print(df1)\n",
        "print(df2)\n",
        "print(\"Addition:\\n\",df1+df2)\n",
        "print(\"Subraction:\\n\",df1-df2)\n",
        "print(\"Multiplication:\\n\",df1*df2)\n",
        "print(\"Divison:\\n\",df1/df2)"
      ]
    },
    {
      "cell_type": "markdown",
      "id": "6f51d914-e77d-4c73-accb-7c7385d7199a",
      "metadata": {},
      "source": [
        "**Sorting and Ranking**"
      ]
    },
    {
      "cell_type": "code",
      "execution_count": 32,
      "id": "44a2a5d0-1d64-4d25-8393-ed52cad0eb95",
      "metadata": {
        "trusted": true
      },
      "outputs": [
        {
          "name": "stdout",
          "output_type": "stream",
          "text": [
            "a    1\n",
            "b    2\n",
            "c    3\n",
            "d    0\n",
            "dtype: int64\n",
            "I\n",
            "        d  a  b  c\n",
            "one    4  5  6  7\n",
            "three  0  1  2  3\n",
            "II\n",
            "        a  b  c  d\n",
            "three  1  2  3  0\n",
            "one    5  6  7  4\n",
            "III\n",
            "        d  c  b  a\n",
            "three  0  3  2  1\n",
            "one    4  7  6  5\n",
            "IV\n",
            "        d  a  b  c\n",
            "three  0  1  2  3\n",
            "one    4  5  6  7\n"
          ]
        }
      ],
      "source": [
        "obj=pd.Series(range(4),index=['d','a','b','c'])\n",
        "df_sort_series=obj.sort_index()\n",
        "print(df_sort_series)\n",
        "frame = pd.DataFrame(np.arange(8).reshape((2,4)),index=['three','one'],\n",
        "                     columns=['d','a','b','c'])\n",
        "print(\"I\\n\",frame.sort_index())\n",
        "print(\"II\\n\",frame.sort_index(axis=1))\n",
        "print(\"III\\n\",frame.sort_index(axis=1,ascending=False))\n",
        "print(\"IV\\n\",frame.sort_values(by='b'))"
      ]
    },
    {
      "cell_type": "code",
      "execution_count": 33,
      "id": "819c9d89-f32c-4a08-8204-bb1fa56c9cd2",
      "metadata": {
        "trusted": true
      },
      "outputs": [
        {
          "name": "stdout",
          "output_type": "stream",
          "text": [
            "Rank\n",
            " 0    6.5\n",
            "1    1.0\n",
            "2    6.5\n",
            "3    4.0\n",
            "4    3.0\n",
            "5    2.0\n",
            "6    5.0\n",
            "dtype: float64\n",
            "rank-Method=first\n",
            " 0    6.0\n",
            "1    1.0\n",
            "2    7.0\n",
            "3    4.0\n",
            "4    3.0\n",
            "5    2.0\n",
            "6    5.0\n",
            "dtype: float64\n",
            "rank-Method=max\n",
            " 0    2.0\n",
            "1    7.0\n",
            "2    2.0\n",
            "3    4.0\n",
            "4    5.0\n",
            "5    6.0\n",
            "6    3.0\n",
            "dtype: float64\n",
            "Rank over rows\n",
            "      b  a    c\n",
            "0  4.3  0 -2.0\n",
            "1  7.0  1  5.0\n",
            "2 -3.0  0  8.0\n",
            "3  2.0  1 -2.5\n",
            "rank over columns \n",
            "      b    a    c\n",
            "0  3.0  2.0  1.0\n",
            "1  3.0  1.0  2.0\n",
            "2  1.0  2.0  3.0\n",
            "3  3.0  2.0  1.0\n"
          ]
        }
      ],
      "source": [
        "obj=pd.Series([7,-5,7,3,2,0,4])\n",
        "print(\"Rank\\n\",obj.rank())\n",
        "print(\"rank-Method=first\\n\",obj.rank(method='first'))\n",
        "print(\"rank-Method=max\\n\",obj.rank(ascending=False,method='max'))\n",
        "frame=pd.DataFrame({'b':[4.3,7,-3,2],'a':[0,1,0,1],'c':[-2,5,8,-2.5]})\n",
        "print(\"Rank over rows\\n\",frame)\n",
        "print(\"rank over columns \\n\",frame.rank(axis='columns'))"
      ]
    },
    {
      "cell_type": "code",
      "execution_count": null,
      "id": "d4329f1a-cb07-4b82-978b-2433643e02c6",
      "metadata": {
        "trusted": true
      },
      "outputs": [],
      "source": []
    }
  ],
  "metadata": {
    "kernelspec": {
      "display_name": "Python (Pyodide)",
      "language": "python",
      "name": "python"
    },
    "language_info": {
      "codemirror_mode": {
        "name": "python",
        "version": 3
      },
      "file_extension": ".py",
      "mimetype": "text/x-python",
      "name": "python",
      "nbconvert_exporter": "python",
      "pygments_lexer": "ipython3",
      "version": "3.8"
    }
  },
  "nbformat": 4,
  "nbformat_minor": 5
}
